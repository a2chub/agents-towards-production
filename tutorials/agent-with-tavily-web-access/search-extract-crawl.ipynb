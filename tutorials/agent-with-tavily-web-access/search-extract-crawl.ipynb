{
 "cells": [
  {
   "cell_type": "markdown",
   "metadata": {},
   "source": [
    "![](https://europe-west1-atp-views-tracker.cloudfunctions.net/working-analytics?notebook=tutorials--agent-with-tavily-web-access--search-extract-crawl)\n",
    "\n",
    "# 1. ウェブの検索、抽出、クロール 🌐\n",
    "\n",
    "ようこそ！このチュートリアルでは、Tavily APIのコア機能（セマンティックな理解を伴うウェブ検索、ライブウェブページからのコンテンツ抽出、ウェブサイト全体のクロール）を実際に体験します。\n",
    "\n",
    "これらのスキルは、インターネットから最新の関連情報を必要とするAIエージェントやアプリケーションを構築する人にとって不可欠です。リアルタイムのウェブデータにプログラムでアクセスして処理する方法を学ぶことで、静的な言語モデルとそれらが動作する動的な世界との間のギャップを埋めることができ、エージェントをよりスマートで、より正確で、コンテキストを理解できるものにすることができます。\n",
    "\n",
    "以下をカバーします：\n",
    "- ウェブ検索を実行し、最も関連性の高い結果を取得する方法\n",
    "- 任意のURLからクリーンで使用可能なコンテンツを抽出する方法\n",
    "- ウェブサイトをクロールして包括的な情報を収集する方法\n",
    "- 高度なパラメータでクエリを微調整する方法\n",
    " \n",
    "\n",
    "---"
   ]
  },
  {
   "cell_type": "markdown",
   "metadata": {},
   "source": [
    "## はじめに\n",
    "\n",
    "以下の手順でセットアップします：\n",
    "\n",
    "1. [app.tavily.com](https://app.tavily.com/home/?utm_source=github&utm_medium=referral&utm_campaign=nir_diamant)でTavilyに**サインアップ**してAPIキーを取得します。\n",
    "\n",
    "   *ステップバイステップのガイダンスについては、以下にリンクされているスクリーンショットを参照してください：*\n",
    "\n",
    "   - ![スクリーンショット：サインアップページ](assets/sign-up.png)\n",
    "   - ![スクリーンショット：Tavily APIキーダッシュボード](assets/api-key.png)\n",
    "\n",
    "\n",
    "2. Tavilyアカウントのダッシュボードから**APIキーをコピー**します。\n",
    "\n",
    "3. 以下のセルに**APIキーを貼り付けて**、セルを実行します。"
   ]
  },
  {
   "cell_type": "code",
   "execution_count": null,
   "metadata": {},
   "outputs": [],
   "source": [
    "# APIキーを.envファイルにエクスポートするには、以下のセルを実行します（実際のキーに置き換えてください）：\n",
    "!echo \"TAVILY_API_KEY=<your-tavily-api-key>\" >> .env"
   ]
  },
  {
   "cell_type": "markdown",
   "metadata": {},
   "source": [
    "以下のセルで依存関係をインストールします。"
   ]
  },
  {
   "cell_type": "code",
   "execution_count": null,
   "metadata": {},
   "outputs": [],
   "source": [
    "%pip install --upgrade tavily-python --quiet"
   ]
  },
  {
   "cell_type": "markdown",
   "id": "68451e3b",
   "metadata": {},
   "source": [
    "### Tavily APIクライアントのセットアップ"
   ]
  },
  {
   "cell_type": "markdown",
   "metadata": {},
   "source": [
    "以下のコードは、APIキーを使用してTavilyクライアントをインスタンス化します。"
   ]
  },
  {
   "cell_type": "code",
   "execution_count": null,
   "metadata": {},
   "outputs": [],
   "source": [
    "import os\n",
    "import getpass\n",
    "from dotenv import load_dotenv\n",
    "from tavily import TavilyClient\n",
    "\n",
    "# .envファイルから環境変数を読み込む\n",
    "load_dotenv()\n",
    "\n",
    "# 環境にまだ設定されていない場合は、ユーザーにAPIキーの入力を安全に促す\n",
    "if not os.environ.get(\"TAVILY_API_KEY\"):\n",
    "    os.environ[\"TAVILY_API_KEY\"] = getpass.getpass(\"TAVILY_API_KEY:\\n\")\n",
    "\n",
    "# 読み込まれたまたは提供されたAPIキーを使用してTavily APIクライアントを初期化\n",
    "tavily_client = TavilyClient(api_key=os.getenv(\"TAVILY_API_KEY\"))"
   ]
  },
  {
   "cell_type": "markdown",
   "metadata": {},
   "source": [
    "## 検索 🔍 \n",
    "\n",
    "NYCに関する最新情報を取得するための基本的なウェブ検索クエリを実行してみましょう。"
   ]
  },
  {
   "cell_type": "code",
   "execution_count": null,
   "metadata": {},
   "outputs": [],
   "source": [
    "# 利用可能な最新情報を取得するためのウェブ検索を実行\n",
    "search_results = tavily_client.search(\n",
    "    query=\"今日NYCで何が起こった？\", max_results=5\n",
    ")"
   ]
  },
  {
   "cell_type": "markdown",
   "metadata": {},
   "source": [
    "この検索呼び出しは5つの結果を返します。各結果には、ウェブページのタイトル、URL、RAG目的のコンテンツスニペット、およびクエリとの一致度を示すセマンティックスコアが含まれます。"
   ]
  },
  {
   "cell_type": "code",
   "execution_count": null,
   "metadata": {},
   "outputs": [],
   "source": [
    "# 結果を表示\n",
    "for result in search_results[\"results\"]:\n",
    "    print(result[\"title\"])\n",
    "    print(result[\"url\"])\n",
    "    print(result[\"content\"])\n",
    "    print(result[\"score\"])\n",
    "    print(\"\\n\")"
   ]
  },
  {
   "cell_type": "markdown",
   "metadata": {},
   "source": [
    "Tavilyの動作を見るために、さまざまなAPIパラメータ設定を試してみましょう。幅広いトピックから特定の質問まで、すべてを試してみてください！結果の数、時間範囲、ドメインフィルターなどのパラメータを調整して、検索をカスタマイズできます。詳細については、検索[APIリファレンス](https://docs.tavily.com/documentation/api-reference/endpoint/search?utm_source=github&utm_medium=referral&utm_campaign=nir_diamant)と[ベストプラクティスガイド](https://docs.tavily.com/documentation/best-practices/best-practices-search?utm_source=github&utm_medium=referral&utm_campaign=nir_diamant)を参照してください。時間範囲フィルター、ドメインフィルターを適用し、`news`検索トピックを使用してみましょう。"
   ]
  },
  {
   "cell_type": "code",
   "execution_count": null,
   "metadata": {},
   "outputs": [],
   "source": [
    "# 特定の時間範囲、ドメインフィルター、トピックフィルターを使用してウェブ検索を実行\n",
    "search_results = tavily_client.search(\n",
    "    query=\"Anthropicのモデルリリース？\",\n",
    "    max_results=5,\n",
    "    time_range=\"month\",\n",
    "    include_domains=[\"techcrunch.com\"],\n",
    "    topic=\"news\",\n",
    ")"
   ]
  },
  {
   "cell_type": "markdown",
   "metadata": {},
   "source": [
    "すべての結果が`techcrunch.com`からのもので、過去1か月に限定されていることに注目してください。`news`トピックを設定することで、検索は信頼できるサードパーティのニュースソースに焦点を当てています。"
   ]
  },
  {
   "cell_type": "code",
   "execution_count": null,
   "metadata": {},
   "outputs": [],
   "source": [
    "# 結果を表示\n",
    "for result in search_results[\"results\"]:\n",
    "    print(result[\"title\"])\n",
    "    print(result[\"url\"])\n",
    "    print(result[\"content\"])\n",
    "    print(\"\\n\")"
   ]
  },
  {
   "cell_type": "markdown",
   "metadata": {},
   "source": [
    "## 抽出 📄 \n",
    "\n",
    "次に、Tavilyの抽出エンドポイントを使用して、前の検索結果のURLを使用して各ページの完全なコンテンツ（つまり、`raw_content`）を取得します。検索からの短いコンテンツスニペットだけを使用するのではなく、これにより各ページの全文にアクセスできます。効率のために、抽出エンドポイントは1回の呼び出しで最大20個のURLを一度に処理できます。詳細については、抽出[APIリファレンス](https://docs.tavily.com/documentation/api-reference/endpoint/extract?utm_source=github&utm_medium=referral&utm_campaign=nir_diamant)と[ベストプラクティスガイド](https://docs.tavily.com/documentation/best-practices/best-practices-extract?utm_source=github&utm_medium=referral&utm_campaign=nir_diamant)を参照してください。"
   ]
  },
  {
   "cell_type": "code",
   "execution_count": null,
   "metadata": {},
   "outputs": [],
   "source": [
    "# 検索結果のURLからフルページコンテンツを抽出\n",
    "extract_results = tavily_client.extract(\n",
    "    urls=[result[\"url\"] for result in search_results[\"results\"]],\n",
    "    # extract_depth=\"advanced\", #動的コンテンツ、埋め込みメディア、または構造化データを含む複雑なウェブページに対して高度な抽出深度を使用するにはコメントを解除\n",
    ")"
   ]
  },
  {
   "cell_type": "markdown",
   "metadata": {},
   "source": [
    "以前に表示された短いコンテンツスニペットよりもはるかに詳細で完全な情報を提供する生のコンテンツを見てみましょう。生のコンテンツをLLMへの入力として使用する場合は、モデルのコンテキストウィンドウの制限を考慮することを忘れないでください。"
   ]
  },
  {
   "cell_type": "code",
   "execution_count": null,
   "metadata": {},
   "outputs": [],
   "source": [
    "# 結果を表示\n",
    "for result in extract_results[\"results\"]:\n",
    "    print(result[\"url\"])\n",
    "    print(result[\"raw_content\"])\n",
    "    print(\"\\n\")"
   ]
  },
  {
   "cell_type": "markdown",
   "metadata": {},
   "source": [
    "生のページコンテンツを返すために抽出エンドポイントを使用する代わりに、`include_raw_content=True`パラメータを使用して検索エンドポイントで検索と抽出エンドポイントを1回のAPI呼び出しに組み合わせることができます。"
   ]
  },
  {
   "cell_type": "code",
   "execution_count": null,
   "metadata": {},
   "outputs": [],
   "source": [
    "# ライブコンテンツ抽出を伴うウェブ検索を実行\n",
    "search_results = tavily_client.search(\n",
    "    query=\"Anthropicのモデルリリース？\",\n",
    "    max_results=1,\n",
    "    include_raw_content=True,\n",
    ")"
   ]
  },
  {
   "cell_type": "markdown",
   "metadata": {},
   "source": [
    "各検索結果には、ウェブページのタイトル、URL、セマンティックスコア、コンテンツスニペット、および完全な生のコンテンツが含まれるようになりました。Tavilyの柔軟でモジュラーなAPIは、モデルサイズに関係なく、幅広いエージェントシステムの構築をサポートします。"
   ]
  },
  {
   "cell_type": "code",
   "execution_count": null,
   "metadata": {},
   "outputs": [],
   "source": [
    "# 結果を表示\n",
    "for result in search_results[\"results\"]:\n",
    "    print(result[\"url\"])\n",
    "    print(result[\"content\"])\n",
    "    print(result[\"score\"])\n",
    "    print(result[\"raw_content\"])\n",
    "    print(\"\\n\")"
   ]
  },
  {
   "cell_type": "markdown",
   "metadata": {},
   "source": [
    "## クロール 🕸️ \n",
    "\n",
    "次に、Tavilyを使用してウェブページをクロールし、すべてのリンクを抽出しましょう。ウェブクロールは、ハイパーリンクをたどってウェブサイトを自動的にナビゲートし、多数のウェブページとURLを発見するプロセスです（Wikipediaのうさぎ穴に落ちるようなもの🐇—ページからページへクリックし、相互接続されたトピックに深く潜っていく）。自律的なウェブエージェントにとって、この機能は検索では取得が困難な深いウェブデータにアクセスするために不可欠です。詳細については、クロール[APIリファレンス](https://docs.tavily.com/documentation/api-reference/endpoint/crawl?utm_source=github&utm_medium=referral&utm_campaign=nir_diamant)と[ベストプラクティスガイド](https://docs.tavily.com/documentation/best-practices/best-practices-crawl?utm_source=github&utm_medium=referral&utm_campaign=nir_diamant)を参照してください。"
   ]
  },
  {
   "cell_type": "markdown",
   "metadata": {},
   "source": [
    "Tavilyウェブサイトをクロールしてすべてのネストされたページを収集することから始めましょう。"
   ]
  },
  {
   "cell_type": "code",
   "execution_count": null,
   "metadata": {},
   "outputs": [],
   "source": [
    "# Tavilyウェブサイトをクロール\n",
    "crawl_results = tavily_client.crawl(url=\"tavily.com\")"
   ]
  },
  {
   "cell_type": "markdown",
   "metadata": {},
   "source": [
    "すべてのネストされたURLが表示されます。"
   ]
  },
  {
   "cell_type": "code",
   "execution_count": null,
   "metadata": {},
   "outputs": [],
   "source": [
    "# 結果を表示\n",
    "for result in crawl_results[\"results\"]:\n",
    "    print(result[\"url\"])"
   ]
  },
  {
   "cell_type": "markdown",
   "metadata": {},
   "source": [
    "クロールエンドポイントは各URLの生のページコンテンツも返します。"
   ]
  },
  {
   "cell_type": "code",
   "execution_count": null,
   "metadata": {},
   "outputs": [],
   "source": [
    "# 結果を表示\n",
    "for result in crawl_results[\"results\"]:\n",
    "    print(result[\"url\"])\n",
    "    print(result[\"raw_content\"])\n",
    "    print(\"\\n\")"
   ]
  },
  {
   "cell_type": "markdown",
   "metadata": {},
   "source": [
    "リンクだけに興味がある場合（ページ全体のコンテンツなし）は、Mapエンドポイントを使用します。サイトからすべてのリンクを取得するための、より高速でコスト効率の良い方法です。"
   ]
  },
  {
   "cell_type": "code",
   "execution_count": null,
   "metadata": {},
   "outputs": [],
   "source": [
    "# Tavilyウェブサイトをマップ\n",
    "map_results = tavily_client.map(url=\"tavily.com\")"
   ]
  },
  {
   "cell_type": "markdown",
   "metadata": {},
   "source": [
    "結果を見てみましょう。この場合はリンクのみが含まれています。"
   ]
  },
  {
   "cell_type": "code",
   "execution_count": null,
   "metadata": {},
   "outputs": [],
   "source": [
    "# 結果を表示\n",
    "map_results"
   ]
  },
  {
   "cell_type": "markdown",
   "metadata": {},
   "source": [
    "クロール/マップエンドポイントの`instructions`パラメータは、自然言語の指示を使用してウェブクロールをガイドできる強力な機能です。"
   ]
  },
  {
   "cell_type": "code",
   "execution_count": null,
   "metadata": {},
   "outputs": [],
   "source": [
    "# 自然言語の指示でTavilyウェブサイトをマップ\n",
    "guided_map_results = tavily_client.map(\n",
    "    url=\"tavily.com\", instructions=\"開発者ドキュメントのみを見つける\"\n",
    ")"
   ]
  },
  {
   "cell_type": "markdown",
   "metadata": {},
   "source": [
    "これで、結果にはTavilyウェブページの開発者ドキュメントのみが含まれます。"
   ]
  },
  {
   "cell_type": "code",
   "execution_count": null,
   "metadata": {},
   "outputs": [],
   "source": [
    "guided_map_results"
   ]
  },
  {
   "cell_type": "markdown",
   "metadata": {},
   "source": [
    "さまざまなURLで実験して、Tavilyがさまざまなウェブサイトの構造をどのようにマップするかを確認してください。これをあなたのエージェントシステムにどのように統合しますか...🤔？"
   ]
  },
  {
   "cell_type": "markdown",
   "metadata": {},
   "source": [
    "## まとめと次のステップ\n",
    " \n",
    "このチュートリアルでは、以下を学びました：\n",
    "- Tavily APIを使用したリアルタイムウェブ検索の実行方法\n",
    "- ウェブページからのコンテンツ抽出方法\n",
    "- ウェブサイトのクロールとマップによるリンクと情報の収集方法\n",
    "- ターゲットデータ抽出のための自然言語指示によるクロールのガイド方法\n",
    " \n",
    "これらの基礎的なスキルにより、エージェントは最新のウェブ情報にアクセスして活用できるようになり、より強力でコンテキストを理解できるものになります。[プレイグラウンド](https://app.tavily.com/playground?utm_source=github&utm_medium=referral&utm_campaign=nir_diamant)でTavily APIを自由に実験し、ユースケースに最適化するために[ベストプラクティスガイド](https://docs.tavily.com/documentation/best-practices/best-practices-search?utm_source=github&utm_medium=referral&utm_campaign=nir_diamant)を読んでください。\n",
    " \n",
    "**次のステップに進む準備はできましたか？**  \n",
    "**チュートリアル#2：自律的に検索、抽出、クロールできるウェブエージェントの構築**では、これらの機能を組み合わせて完全に自律的なウェブエージェントを構築します。このエージェントは推論し、いつ検索、クロール、または抽出するかを決定し、ウェブデータをワークフローに統合できます—すべてTavilyによって駆動されます。\n",
    " \n",
    "[👉 **チュートリアル#2に進む！**](./web-agent-tutorial.ipynb)"
   ]
  }
 ],
 "metadata": {
  "kernelspec": {
   "display_name": "Python 3",
   "language": "python",
   "name": "python3"
  },
  "language_info": {
   "codemirror_mode": {
    "name": "ipython",
    "version": 3
   },
   "file_extension": ".py",
   "mimetype": "text/x-python",
   "name": "python",
   "nbconvert_exporter": "python",
   "pygments_lexer": "ipython3",
   "version": "3.13.2"
  }
 },
 "nbformat": 4,
 "nbformat_minor": 2
}
