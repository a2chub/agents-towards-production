{
 "cells": [
  {
   "cell_type": "markdown",
   "id": "cd4fd0c8",
   "metadata": {},
   "source": [
    "# チュートリアル: ベクトル検索用に独自のドキュメントを準備する"
   ]
  },
  {
   "cell_type": "code",
   "execution_count": null,
   "id": "fa95f9a3",
   "metadata": {},
   "outputs": [],
   "source": [
    "%pip install langchain pypdf langchain-openai --quiet"
   ]
  },
  {
   "cell_type": "markdown",
   "id": "01e963f3",
   "metadata": {},
   "source": [
    "## 1. ドキュメントのアップロード\n",
    "まず、`/docs` フォルダ内の既存のファイルを削除し、独自のPDFファイルを追加します。その後、以下のセルを実行してください。"
   ]
  },
  {
   "cell_type": "code",
   "execution_count": null,
   "id": "dc06127b",
   "metadata": {},
   "outputs": [],
   "source": [
    "# docsディレクトリ内のすべてのファイルを処理するローダーを作成\n",
    "import os\n",
    "from langchain_community.document_loaders import PyPDFLoader\n",
    "\n",
    "# docsディレクトリへのパス\n",
    "docs_dir = \"./docs\"\n",
    "\n",
    "# ディレクトリ内のすべてのファイルを取得\n",
    "all_files = [os.path.join(docs_dir, f) for f in os.listdir(docs_dir) \n",
    "             if os.path.isfile(os.path.join(docs_dir, f))]\n",
    "\n",
    "# ディレクトリ内の各ファイルを処理\n",
    "documents = []\n",
    "for file_path in all_files:\n",
    "    try:\n",
    "        loader = PyPDFLoader(\n",
    "            file_path=file_path,\n",
    "        )\n",
    "        docs = loader.load()\n",
    "        documents.extend(docs)\n",
    "        print(f\"{file_path}から{len(docs)}個のチャンクを読み込みました\")\n",
    "    except Exception as e:\n",
    "        print(f\"{file_path}の読み込みエラー: {e}\")\n",
    "\n",
    "print(f\"合計{len(documents)}個のドキュメントチャンクを読み込みました\")"
   ]
  },
  {
   "cell_type": "markdown",
   "id": "aacb83c0",
   "metadata": {},
   "source": [
    "## 2. ドキュメントのチャンク化\n",
    "大きなドキュメントを小さなチャンクに分割して、埋め込み品質を向上させます。"
   ]
  },
  {
   "cell_type": "code",
   "execution_count": null,
   "id": "63b66500",
   "metadata": {},
   "outputs": [],
   "source": [
    "from langchain.text_splitter import RecursiveCharacterTextSplitter\n",
    "\n",
    "# ドキュメントを1000文字のチャンクに分割（200文字のオーバーラップ付き）\n",
    "text_splitter = RecursiveCharacterTextSplitter(\n",
    "    chunk_size=1000,\n",
    "    chunk_overlap=200\n",
    ")\n",
    "\n",
    "chunks = text_splitter.split_documents(documents)\n",
    "print(f\"{len(chunks)}個のチャンクを作成しました\")"
   ]
  },
  {
   "cell_type": "code",
   "execution_count": null,
   "id": "263be846",
   "metadata": {},
   "outputs": [],
   "source": [
    "# チャンクを表示\n",
    "for chunk in chunks:\n",
    "    print(chunk.page_content)\n",
    "    print(\"-\"*100)"
   ]
  },
  {
   "cell_type": "markdown",
   "id": "1e96b64b",
   "metadata": {},
   "source": [
    "## 3. 埋め込みの生成\n",
    "OpenAI埋め込みを使用して、各チャンクをベクトルにエンコードします。"
   ]
  },
  {
   "cell_type": "code",
   "execution_count": null,
   "id": "01ae89f4",
   "metadata": {},
   "outputs": [],
   "source": [
    "from langchain_openai import OpenAIEmbeddings\n",
    "# デフォルトのOpenAI埋め込みとして埋め込みを定義\n",
    "embeddings = OpenAIEmbeddings()"
   ]
  },
  {
   "cell_type": "markdown",
   "id": "37b87e5f",
   "metadata": {},
   "source": [
    "## 4. Chromaに埋め込みを保存\n",
    "Chromaベクトルストアを初期化し、ローカルに永続化します。\n",
    "\n",
    "「OperationalError: attempt to write a readonly database」エラーが発生した場合は、カーネルを再起動してノートブックを再実行してください。"
   ]
  },
  {
   "cell_type": "code",
   "execution_count": null,
   "id": "2901d768",
   "metadata": {},
   "outputs": [],
   "source": [
    "from langchain.vectorstores import Chroma\n",
    "\n",
    "# Chromaでベクトルストアを作成\n",
    "vectordb = Chroma.from_documents(\n",
    "    chunks,\n",
    "    embedding=embeddings,\n",
    "    persist_directory=\"db\",\n",
    "    collection_name=\"my_custom_index\"\n",
    ")\n",
    "vectordb.persist()"
   ]
  },
  {
   "cell_type": "markdown",
   "id": "4700d544",
   "metadata": {},
   "source": [
    "## 5. 類似性検索の例\n",
    "ベクトルストアで類似性検索クエリを実行します。"
   ]
  },
  {
   "cell_type": "code",
   "execution_count": null,
   "id": "207b9599",
   "metadata": {},
   "outputs": [],
   "source": [
    "# 類似性検索のテスト\n",
    "query = \"robotics\"\n",
    "results = vectordb.similarity_search(query, k=5)\n",
    "for i, doc in enumerate(results):\n",
    "    print(f\"結果 {i+1}: {doc.page_content}...\\n\")"
   ]
  }
 ],
 "metadata": {
  "kernelspec": {
   "display_name": "Python 3",
   "language": "python",
   "name": "python3"
  },
  "language_info": {
   "codemirror_mode": {
    "name": "ipython",
    "version": 3
   },
   "file_extension": ".py",
   "mimetype": "text/x-python",
   "name": "python",
   "nbconvert_exporter": "python",
   "pygments_lexer": "ipython3",
   "version": "3.13.2"
  }
 },
 "nbformat": 4,
 "nbformat_minor": 5
}
