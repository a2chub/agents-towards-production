{
 "cells": [
  {
   "cell_type": "markdown",
   "metadata": {},
   "source": [
    "![](https://europe-west1-atp-views-tracker.cloudfunctions.net/working-analytics?notebook=tutorials--agent-security-with-qualifire--2-agent-security-with-qualifire-ui)\n",
    "\n",
    "# Qualifireを使用したエージェントガードレール 🔥\n",
    "\n",
    "このノートブックでは、AIエージェントにガードレールを追加するためのQualifireの統合方法を説明します。OpenAIのGPT-4.1とStreamlitを使用して簡単なチャットボットを構築し、GatewayとSDKの両方を使用してプロンプトインジェクション、安全でないコンテンツ、幻覚、ポリシー違反に対する保護を実装します。\n",
    "\n",
    "## 概要\n",
    "\n",
    "AIエージェントがより洗練され、広く展開されるようになるにつれて、その安全で制御された動作を確保することが重要になります。適切なガードレールがないと、AIエージェントはプロンプトインジェクション、安全でないコンテンツの生成、幻覚、ポリシー違反など、さまざまなリスクに対して脆弱になる可能性があります。\n",
    "\n",
    "## ガードレール使用の利点\n",
    "\n",
    "- **セキュリティの強化**: プロンプトインジェクション攻撃と不正アクセスから保護\n",
    "- **コンテンツの安全性**: 有害または不適切なコンテンツの生成をフィルタリングして防止\n",
    "- **品質管理**: 幻覚を減らし、事実に基づいた応答を確保\n",
    "- **ポリシーコンプライアンス**: 組織のポリシーと使用ガイドラインを実施\n",
    "- **リアルタイム保護**: 実行時に動作するガードレールを実装\n",
    "\n",
    "## 主要なメソッド\n",
    "\n",
    "1. **ゲートウェイ保護**: APIレベルのセキュリティ制御を実装\n",
    "2. **コンテンツフィルタリング**: コンテンツモデレーションと安全性チェックを設定\n",
    "3. **幻覚防止**: 事実確認と検証を追加\n",
    "4. **ポリシー施行**: 使用ポリシーを設定して適用\n",
    "\n",
    "ℹ️ デモアプリの作成方法に興味がある場合は、このチュートリアルに進む前に[Streamlitチュートリアル](../agent-with-streamlit-ui/building-chatbot-notebook.ipynb)をご覧ください。"
   ]
  },
  {
   "cell_type": "markdown",
   "metadata": {},
   "source": [
    "<img src=\"./assets/freddie-shield.png\" width=\"200px\" alt=\"Qualifire Shield Logo\">\n"
   ]
  },
  {
   "cell_type": "markdown",
   "metadata": {},
   "source": [
    "## 1. セットアップと要件"
   ]
  },
  {
   "cell_type": "code",
   "execution_count": null,
   "metadata": {},
   "outputs": [],
   "source": [
    "!pip install -q -r requirements.txt"
   ]
  },
  {
   "cell_type": "markdown",
   "metadata": {},
   "source": [
    "### 1.2. Qualifireに登録してAPIキーを取得\n",
    "\n",
    "ℹ️ すでにAPIキーを作成済みの場合は、このステップをスキップできます。\n",
    "\n",
    "続行する前に、QualifireアカウントとAPIキーを持っていることを確認してください。\n",
    "\n",
    "1. [https://app.qualifire.ai](https://app.qualifire.ai?utm=agents-towards-production)で登録します。\n",
    "2. オンボーディングを完了し、APIキーを作成します。"
   ]
  },
  {
   "cell_type": "markdown",
   "metadata": {},
   "source": [
    "<img src=\"./assets/protection-rules-evaluation.png\" alt=\"Protection Rules Evaluation\">\n",
    "<img src=\"./assets/protection-rules-actions.png\" alt=\"Protection Rules Actions\">\n"
   ]
  },
  {
   "cell_type": "markdown",
   "metadata": {},
   "source": [
    "3. 「ログを待機中」の画面が表示されたら、チュートリアルを続行できます。"
   ]
  },
  {
   "cell_type": "markdown",
   "metadata": {},
   "source": [
    "<img src=\"./assets/wait-for-logs.png\" alt=\"Waiting for logs\">\n"
   ]
  },
  {
   "cell_type": "markdown",
   "metadata": {},
   "source": [
    "## 2. Streamlitアプリのパッチ適用"
   ]
  },
  {
   "cell_type": "markdown",
   "metadata": {},
   "source": [
    "## セットアップ: OpenAI APIキー\n",
    "\n",
    "OpenAIのAPIを使用するには、ライブラリが認証できるようにAPIキーを提供する必要があります。これを行う方法はいくつかあります：\n",
    "\n",
    "1. **オプション1（推奨）**: システムの環境変数としてAPIキーを設定します（例：`OPENAI_API_KEY`）。これにより、キーがコードの外に保持されます。\n",
    "   - Linux/Mac: ターミナルで`export OPENAI_API_KEY='your_key_here'`\n",
    "   - Windows: コマンドプロンプトで`set OPENAI_API_KEY=\"your_key_here\"`\n",
    "\n",
    "2. **オプション2**: コードでAPIキーを直接割り当てる（テスト用には便利ですが、コードを共有する場合はキーを公開しないよう注意してください）\n",
    "\n",
    "このチュートリアルでは、安全のためにキーを環境変数として保存したと仮定します。秘密情報をハードコーディングしないことがベストプラクティスです。\n",
    "\n",
    "ℹ️ 任意のLLMを使用できます。このチュートリアルでは、OpenAIのGPT-4.1を使用します。各LLMの具体的な設定を読みたい場合は、[ドキュメント](https://docs.qualifire.ai?utm=agents-towards-production)を確認してください。"
   ]
  },
  {
   "cell_type": "markdown",
   "metadata": {},
   "source": [
    "### 2.1 Qualifireをゲートウェイとしてフック"
   ]
  },
  {
   "cell_type": "code",
   "execution_count": null,
   "metadata": {},
   "outputs": [],
   "source": [
    "# app.py (すべてのステップを組み合わせた完全なコード)\n",
    "\n",
    "\n",
    "########################################################\n",
    "# オプションで、エージェントへの可観測性を得るためにトレーシングを追加できます\n",
    "########################################################\n",
    "\n",
    "import os\n",
    "import qualifire\n",
    "from dotenv import load_dotenv\n",
    "\n",
    "load_dotenv()  # .envから環境変数を読み込む\n",
    "\n",
    "OPENAI_API_KEY = os.getenv(\"OPENAI_API_KEY\")\n",
    "QUALIFIRE_API_KEY = os.getenv(\"QUALIFIRE_API_KEY\")\n",
    "qualifire.init(\n",
    "    api_key=QUALIFIRE_API_KEY,\n",
    ")\n",
    "\n",
    "\n",
    "########################################################\n",
    "# 残りのコード\n",
    "########################################################\n",
    "\n",
    "\n",
    "import openai\n",
    "import streamlit as st\n",
    "import io\n",
    "\n",
    "import openai\n",
    "import os\n",
    "import PyPDF2\n",
    "\n",
    "\n",
    "\n",
    "if not OPENAI_API_KEY or not QUALIFIRE_API_KEY:\n",
    "    raise ValueError(\"OPENAI_API_KEYとQUALIFIRE_API_KEYを設定する必要があります\")\n",
    "\n",
    "\n",
    "########################################################\n",
    "# Streamlitアプリのパッチ適用\n",
    "########################################################\n",
    "\n",
    "\n",
    "client = openai.OpenAI(\n",
    "    api_key=OPENAI_API_KEY,\n",
    "    base_url=\"https://proxy.qualifire.ai/api/providers/openai\",\n",
    "    default_headers={\n",
    "        \"X-Qualifire-Api-Key\": QUALIFIRE_API_KEY,\n",
    "    },\n",
    ")\n",
    "\n",
    "\n",
    "\n",
    "########################################################\n",
    "# app.pyコードの残り\n",
    "########################################################\n",
    "\n",
    "..."
   ]
  },
  {
   "cell_type": "markdown",
   "metadata": {},
   "source": [
    "# 3. 新しい保護ルールの作成\n",
    "\n",
    "Qualifireでは、保護ルールはLLM呼び出しに適用されるポリシーを定義する方法であり、ガードレールを適用し、期待どおりに動作しないLLMのエスケープハッチを設定できます。\n",
    "\n",
    "1. 保護ルール[タブ](https://app.qualifire.ai/rules?utm=agents-towards-production)に移動します\n",
    "2. ルールに名前を付けて「次へ」をクリックします\n",
    "3. 評価を選択し、入力または出力で実行するかを選択します（今のところ入力のみ）\n",
    "4. 評価が失敗したときに取るアクションを選択します。この例では、「それはできません」というデフォルトの応答を追加します\n",
    "5. 「作成」をクリックします"
   ]
  },
  {
   "cell_type": "markdown",
   "metadata": {},
   "source": [
    "#### 作業中のエージェントと対話できるようになったので、ガードレールをバイパスしてみましょう\n",
    "\n",
    "1. 初期のジェイルブレイクとプロンプトインジェクションのセットには[これ](https://github.com/drorIvry/L1B3RT45/blob/main/OPENAI.mkd)を使用できます。\n",
    "⚠️ これは参考資料です。自己責任で使用してください\n",
    "\n",
    "Qualifireのジェイルブレイク保護ルールをオンとオフに切り替えて、LLMの応答にどのような影響があるかを確認してみてください。"
   ]
  },
  {
   "cell_type": "code",
   "execution_count": null,
   "metadata": {},
   "outputs": [],
   "source": [
    "!streamlit run app.py"
   ]
  },
  {
   "cell_type": "markdown",
   "metadata": {},
   "source": [
    "# <img src=\"./assets/prompt-injections-demo.gif\">\n"
   ]
  },
  {
   "cell_type": "markdown",
   "metadata": {},
   "source": [
    "# 3. まとめ\n",
    "\n",
    "このチュートリアルを完了していただきありがとうございます！Qualifireを使用してエージェントの可観測性を向上させる方法を理解するのに役立ったことを願っています。\n",
    "\n",
    "このチュートリアルでは、以下を学びました：\n",
    "\n",
    "- 1行のコードでPythonアプリケーションでQualifireを初期化する方法\n",
    "- バックグラウンドでOpenTelemetryを介して可観測性データを自動的にキャプチャするQualifireでエージェントを実行する方法\n",
    "- LLM呼び出しを保護するためのQualifireガードレールの設定方法\n",
    "\n",
    "Qualifireを使用すると、AIに対する深い比類のない制御、可視性、保護が提供されます。\n",
    "\n",
    "\n",
    "### チュートリアルを完了していただきありがとうございます！ 🙏\n",
    "Qualifireを始めるために、Proプランの1か月無料をご提供したいと思います。チェックアウト時にコード`NIR1MONTH`を使用してください\n",
    "\n",
    "詳細については[https://qualifire.ai](https://qualifire.ai?utm=agents-towards-production)をご覧ください。"
   ]
  }
 ],
 "metadata": {
  "kernelspec": {
   "display_name": "build-influence",
   "language": "python",
   "name": "python3"
  },
  "language_info": {
   "codemirror_mode": {
    "name": "ipython",
    "version": 3
   },
   "file_extension": ".py",
   "mimetype": "text/x-python",
   "name": "python",
   "nbconvert_exporter": "python",
   "pygments_lexer": "ipython3",
   "version": "3.11.4"
  }
 },
 "nbformat": 4,
 "nbformat_minor": 2
}
